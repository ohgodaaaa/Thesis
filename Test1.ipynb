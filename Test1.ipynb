{
 "cells": [
  {
   "cell_type": "code",
   "execution_count": 1,
   "id": "35ef13bc",
   "metadata": {},
   "outputs": [
    {
     "name": "stdout",
     "output_type": "stream",
     "text": [
      "Requirement already satisfied: transformers in /opt/conda/lib/python3.10/site-packages (4.30.2)\n",
      "Requirement already satisfied: packaging>=20.0 in /opt/conda/lib/python3.10/site-packages (from transformers) (23.0)\n",
      "Requirement already satisfied: requests in /opt/conda/lib/python3.10/site-packages (from transformers) (2.29.0)\n",
      "Requirement already satisfied: tqdm>=4.27 in /opt/conda/lib/python3.10/site-packages (from transformers) (4.65.0)\n",
      "Requirement already satisfied: tokenizers!=0.11.3,<0.14,>=0.11.1 in /opt/conda/lib/python3.10/site-packages (from transformers) (0.13.3)\n",
      "Requirement already satisfied: safetensors>=0.3.1 in /opt/conda/lib/python3.10/site-packages (from transformers) (0.3.1)\n",
      "Requirement already satisfied: pyyaml>=5.1 in /opt/conda/lib/python3.10/site-packages (from transformers) (6.0)\n",
      "Requirement already satisfied: regex!=2019.12.17 in /opt/conda/lib/python3.10/site-packages (from transformers) (2023.6.3)\n",
      "Requirement already satisfied: huggingface-hub<1.0,>=0.14.1 in /opt/conda/lib/python3.10/site-packages (from transformers) (0.16.4)\n",
      "Requirement already satisfied: filelock in /opt/conda/lib/python3.10/site-packages (from transformers) (3.9.0)\n",
      "Requirement already satisfied: numpy>=1.17 in /opt/conda/lib/python3.10/site-packages (from transformers) (1.24.3)\n",
      "Requirement already satisfied: fsspec in /opt/conda/lib/python3.10/site-packages (from huggingface-hub<1.0,>=0.14.1->transformers) (2023.6.0)\n",
      "Requirement already satisfied: typing-extensions>=3.7.4.3 in /opt/conda/lib/python3.10/site-packages (from huggingface-hub<1.0,>=0.14.1->transformers) (4.5.0)\n",
      "Requirement already satisfied: urllib3<1.27,>=1.21.1 in /opt/conda/lib/python3.10/site-packages (from requests->transformers) (1.26.15)\n",
      "Requirement already satisfied: charset-normalizer<4,>=2 in /opt/conda/lib/python3.10/site-packages (from requests->transformers) (2.0.4)\n",
      "Requirement already satisfied: certifi>=2017.4.17 in /opt/conda/lib/python3.10/site-packages (from requests->transformers) (2023.5.7)\n",
      "Requirement already satisfied: idna<4,>=2.5 in /opt/conda/lib/python3.10/site-packages (from requests->transformers) (3.4)\n",
      "\u001b[33mWARNING: Running pip as the 'root' user can result in broken permissions and conflicting behaviour with the system package manager. It is recommended to use a virtual environment instead: https://pip.pypa.io/warnings/venv\u001b[0m\u001b[33m\n",
      "\u001b[0mRequirement already satisfied: pandas in /opt/conda/lib/python3.10/site-packages (2.0.3)\n",
      "Requirement already satisfied: pytz>=2020.1 in /opt/conda/lib/python3.10/site-packages (from pandas) (2022.7)\n",
      "Requirement already satisfied: tzdata>=2022.1 in /opt/conda/lib/python3.10/site-packages (from pandas) (2023.3)\n",
      "Requirement already satisfied: python-dateutil>=2.8.2 in /opt/conda/lib/python3.10/site-packages (from pandas) (2.8.2)\n",
      "Requirement already satisfied: numpy>=1.21.0 in /opt/conda/lib/python3.10/site-packages (from pandas) (1.24.3)\n",
      "Requirement already satisfied: six>=1.5 in /opt/conda/lib/python3.10/site-packages (from python-dateutil>=2.8.2->pandas) (1.16.0)\n",
      "\u001b[33mWARNING: Running pip as the 'root' user can result in broken permissions and conflicting behaviour with the system package manager. It is recommended to use a virtual environment instead: https://pip.pypa.io/warnings/venv\u001b[0m\u001b[33m\n",
      "\u001b[0mRequirement already satisfied: datasets in /opt/conda/lib/python3.10/site-packages (2.13.1)\n",
      "Requirement already satisfied: fsspec[http]>=2021.11.1 in /opt/conda/lib/python3.10/site-packages (from datasets) (2023.6.0)\n",
      "Requirement already satisfied: dill<0.3.7,>=0.3.0 in /opt/conda/lib/python3.10/site-packages (from datasets) (0.3.6)\n",
      "Requirement already satisfied: xxhash in /opt/conda/lib/python3.10/site-packages (from datasets) (3.2.0)\n",
      "Requirement already satisfied: pandas in /opt/conda/lib/python3.10/site-packages (from datasets) (2.0.3)\n",
      "Requirement already satisfied: multiprocess in /opt/conda/lib/python3.10/site-packages (from datasets) (0.70.14)\n",
      "Requirement already satisfied: pyarrow>=8.0.0 in /opt/conda/lib/python3.10/site-packages (from datasets) (12.0.1)\n",
      "Requirement already satisfied: huggingface-hub<1.0.0,>=0.11.0 in /opt/conda/lib/python3.10/site-packages (from datasets) (0.16.4)\n",
      "Requirement already satisfied: requests>=2.19.0 in /opt/conda/lib/python3.10/site-packages (from datasets) (2.29.0)\n",
      "Requirement already satisfied: pyyaml>=5.1 in /opt/conda/lib/python3.10/site-packages (from datasets) (6.0)\n",
      "Requirement already satisfied: numpy>=1.17 in /opt/conda/lib/python3.10/site-packages (from datasets) (1.24.3)\n",
      "Requirement already satisfied: aiohttp in /opt/conda/lib/python3.10/site-packages (from datasets) (3.8.4)\n",
      "Requirement already satisfied: tqdm>=4.62.1 in /opt/conda/lib/python3.10/site-packages (from datasets) (4.65.0)\n",
      "Requirement already satisfied: packaging in /opt/conda/lib/python3.10/site-packages (from datasets) (23.0)\n",
      "Requirement already satisfied: async-timeout<5.0,>=4.0.0a3 in /opt/conda/lib/python3.10/site-packages (from aiohttp->datasets) (4.0.2)\n",
      "Requirement already satisfied: aiosignal>=1.1.2 in /opt/conda/lib/python3.10/site-packages (from aiohttp->datasets) (1.3.1)\n",
      "Requirement already satisfied: yarl<2.0,>=1.0 in /opt/conda/lib/python3.10/site-packages (from aiohttp->datasets) (1.9.2)\n",
      "Requirement already satisfied: charset-normalizer<4.0,>=2.0 in /opt/conda/lib/python3.10/site-packages (from aiohttp->datasets) (2.0.4)\n",
      "Requirement already satisfied: multidict<7.0,>=4.5 in /opt/conda/lib/python3.10/site-packages (from aiohttp->datasets) (6.0.4)\n",
      "Requirement already satisfied: frozenlist>=1.1.1 in /opt/conda/lib/python3.10/site-packages (from aiohttp->datasets) (1.4.0)\n",
      "Requirement already satisfied: attrs>=17.3.0 in /opt/conda/lib/python3.10/site-packages (from aiohttp->datasets) (23.1.0)\n",
      "Requirement already satisfied: typing-extensions>=3.7.4.3 in /opt/conda/lib/python3.10/site-packages (from huggingface-hub<1.0.0,>=0.11.0->datasets) (4.5.0)\n",
      "Requirement already satisfied: filelock in /opt/conda/lib/python3.10/site-packages (from huggingface-hub<1.0.0,>=0.11.0->datasets) (3.9.0)\n",
      "Requirement already satisfied: urllib3<1.27,>=1.21.1 in /opt/conda/lib/python3.10/site-packages (from requests>=2.19.0->datasets) (1.26.15)\n",
      "Requirement already satisfied: idna<4,>=2.5 in /opt/conda/lib/python3.10/site-packages (from requests>=2.19.0->datasets) (3.4)\n",
      "Requirement already satisfied: certifi>=2017.4.17 in /opt/conda/lib/python3.10/site-packages (from requests>=2.19.0->datasets) (2023.5.7)\n",
      "Requirement already satisfied: tzdata>=2022.1 in /opt/conda/lib/python3.10/site-packages (from pandas->datasets) (2023.3)\n",
      "Requirement already satisfied: python-dateutil>=2.8.2 in /opt/conda/lib/python3.10/site-packages (from pandas->datasets) (2.8.2)\n",
      "Requirement already satisfied: pytz>=2020.1 in /opt/conda/lib/python3.10/site-packages (from pandas->datasets) (2022.7)\n",
      "Requirement already satisfied: six>=1.5 in /opt/conda/lib/python3.10/site-packages (from python-dateutil>=2.8.2->pandas->datasets) (1.16.0)\n",
      "\u001b[33mWARNING: Running pip as the 'root' user can result in broken permissions and conflicting behaviour with the system package manager. It is recommended to use a virtual environment instead: https://pip.pypa.io/warnings/venv\u001b[0m\u001b[33m\n",
      "\u001b[0mRequirement already satisfied: scikit-learn in /opt/conda/lib/python3.10/site-packages (1.3.0)\n",
      "Requirement already satisfied: joblib>=1.1.1 in /opt/conda/lib/python3.10/site-packages (from scikit-learn) (1.3.1)\n",
      "Requirement already satisfied: threadpoolctl>=2.0.0 in /opt/conda/lib/python3.10/site-packages (from scikit-learn) (3.2.0)\n",
      "Requirement already satisfied: numpy>=1.17.3 in /opt/conda/lib/python3.10/site-packages (from scikit-learn) (1.24.3)\n",
      "Requirement already satisfied: scipy>=1.5.0 in /opt/conda/lib/python3.10/site-packages (from scikit-learn) (1.11.1)\n",
      "\u001b[33mWARNING: Running pip as the 'root' user can result in broken permissions and conflicting behaviour with the system package manager. It is recommended to use a virtual environment instead: https://pip.pypa.io/warnings/venv\u001b[0m\u001b[33m\n",
      "\u001b[0mRequirement already satisfied: accelerate in /opt/conda/lib/python3.10/site-packages (0.21.0)\n",
      "Requirement already satisfied: packaging>=20.0 in /opt/conda/lib/python3.10/site-packages (from accelerate) (23.0)\n",
      "Requirement already satisfied: numpy>=1.17 in /opt/conda/lib/python3.10/site-packages (from accelerate) (1.24.3)\n",
      "Requirement already satisfied: pyyaml in /opt/conda/lib/python3.10/site-packages (from accelerate) (6.0)\n",
      "Requirement already satisfied: torch>=1.10.0 in /opt/conda/lib/python3.10/site-packages (from accelerate) (2.0.1)\n",
      "Requirement already satisfied: psutil in /opt/conda/lib/python3.10/site-packages (from accelerate) (5.9.0)\n",
      "Requirement already satisfied: filelock in /opt/conda/lib/python3.10/site-packages (from torch>=1.10.0->accelerate) (3.9.0)\n",
      "Requirement already satisfied: typing-extensions in /opt/conda/lib/python3.10/site-packages (from torch>=1.10.0->accelerate) (4.5.0)\n",
      "Requirement already satisfied: sympy in /opt/conda/lib/python3.10/site-packages (from torch>=1.10.0->accelerate) (1.12)\n",
      "Requirement already satisfied: networkx in /opt/conda/lib/python3.10/site-packages (from torch>=1.10.0->accelerate) (3.1)\n",
      "Requirement already satisfied: jinja2 in /opt/conda/lib/python3.10/site-packages (from torch>=1.10.0->accelerate) (3.1.2)\n"
     ]
    },
    {
     "name": "stdout",
     "output_type": "stream",
     "text": [
      "Requirement already satisfied: MarkupSafe>=2.0 in /opt/conda/lib/python3.10/site-packages (from jinja2->torch>=1.10.0->accelerate) (2.1.1)\n",
      "Requirement already satisfied: mpmath>=0.19 in /opt/conda/lib/python3.10/site-packages (from sympy->torch>=1.10.0->accelerate) (1.3.0)\n",
      "\u001b[33mWARNING: Running pip as the 'root' user can result in broken permissions and conflicting behaviour with the system package manager. It is recommended to use a virtual environment instead: https://pip.pypa.io/warnings/venv\u001b[0m\u001b[33m\n",
      "\u001b[0m"
     ]
    }
   ],
   "source": [
    "!pip install transformers\n",
    "!pip install pandas\n",
    "!pip install datasets\n",
    "!pip install scikit-learn\n",
    "!pip install accelerate -U"
   ]
  },
  {
   "cell_type": "code",
   "execution_count": 2,
   "id": "a72ff648-e206-4382-9fa0-687ea07fa147",
   "metadata": {
    "execution": {
     "iopub.execute_input": "2023-07-11T00:37:21.124595Z",
     "iopub.status.busy": "2023-07-11T00:37:21.124227Z",
     "iopub.status.idle": "2023-07-11T00:37:32.221350Z",
     "shell.execute_reply": "2023-07-11T00:37:32.220314Z",
     "shell.execute_reply.started": "2023-07-11T00:37:21.124558Z"
    }
   },
   "outputs": [],
   "source": [
    "from transformers import AutoTokenizer, AutoModelForSequenceClassification\n",
    "import pandas as pd\n",
    "from datasets import load_dataset\n",
    "import numpy as np\n",
    "import torch\n",
    "from transformers import TrainingArguments\n",
    "from sklearn.metrics import accuracy_score, precision_recall_fscore_support\n",
    "from sklearn.metrics import precision_recall_fscore_support, accuracy_score\n",
    "from transformers import DataCollatorWithPadding, Trainer, TrainingArguments\n",
    "from transformers import RobertaConfig, RobertaForSequenceClassification\n",
    "from transformers import AutoTokenizer, AutoModelForSequenceClassification, AdamW\n",
    "\n",
    "tokenizer = AutoTokenizer.from_pretrained(\"Hello-SimpleAI/chatgpt-detector-roberta\")\n",
    "model = AutoModelForSequenceClassification.from_pretrained(\"Hello-SimpleAI/chatgpt-detector-roberta\")"
   ]
  },
  {
   "cell_type": "code",
   "execution_count": 3,
   "id": "fbd54a7a-0aeb-48b7-9710-cbe6676a1762",
   "metadata": {
    "execution": {
     "iopub.execute_input": "2023-07-11T00:37:34.974579Z",
     "iopub.status.busy": "2023-07-11T00:37:34.974281Z",
     "iopub.status.idle": "2023-07-11T00:38:04.825544Z",
     "shell.execute_reply": "2023-07-11T00:38:04.824784Z",
     "shell.execute_reply.started": "2023-07-11T00:37:34.974555Z"
    }
   },
   "outputs": [],
   "source": [
    "# create a label mapping \n",
    "train_df = pd.read_csv('en_train.csv')\n",
    "test_df = pd.read_csv('en_test.csv')\n",
    "\n",
    "def encode_examples(df):\n",
    "    encodings = tokenizer(df['answer'].tolist(), truncation=True, padding='longest', return_tensors='pt')\n",
    "    labels = df['label'].tolist()\n",
    "    return {**encodings, 'labels': labels}\n",
    "\n",
    "train_encodings = encode_examples(train_df)\n",
    "test_encodings = encode_examples(test_df)"
   ]
  },
  {
   "cell_type": "code",
   "execution_count": 4,
   "id": "e8eb4e60-a6ec-48b3-aa9f-2196f0b0385d",
   "metadata": {
    "execution": {
     "iopub.execute_input": "2023-07-11T00:38:04.829159Z",
     "iopub.status.busy": "2023-07-11T00:38:04.828728Z",
     "iopub.status.idle": "2023-07-11T00:38:04.834880Z",
     "shell.execute_reply": "2023-07-11T00:38:04.834145Z",
     "shell.execute_reply.started": "2023-07-11T00:38:04.829134Z"
    }
   },
   "outputs": [],
   "source": [
    "# create dataset class \n",
    "class MyDataset(torch.utils.data.Dataset):\n",
    "    def __init__(self, encodings):\n",
    "        self.encodings = encodings\n",
    "\n",
    "    def __getitem__(self, idx):\n",
    "        item = {key: torch.tensor(val[idx]) for key, val in self.encodings.items() if key != 'labels'}\n",
    "        item['labels'] = torch.tensor(self.encodings['labels'][idx])\n",
    "        return item\n",
    "\n",
    "    def __len__(self):\n",
    "        return len(self.encodings['input_ids'])\n",
    "\n",
    "\n",
    "train_dataset = MyDataset(train_encodings)\n",
    "test_dataset = MyDataset(test_encodings)"
   ]
  },
  {
   "cell_type": "code",
   "execution_count": 5,
   "id": "5d7506f8",
   "metadata": {},
   "outputs": [],
   "source": [
    "def create_optimizer(model):\n",
    "    return AdamW(model.parameters(), lr=5e-5)"
   ]
  },
  {
   "cell_type": "code",
   "execution_count": 6,
   "id": "b5b316a9-4e84-437f-9286-67da6d9c350b",
   "metadata": {
    "execution": {
     "iopub.execute_input": "2023-07-11T00:38:04.839961Z",
     "iopub.status.busy": "2023-07-11T00:38:04.839497Z",
     "iopub.status.idle": "2023-07-11T00:38:08.047891Z",
     "shell.execute_reply": "2023-07-11T00:38:08.047088Z",
     "shell.execute_reply.started": "2023-07-11T00:38:04.839935Z"
    }
   },
   "outputs": [],
   "source": [
    "# setup Trainer for training\n",
    "training_args = TrainingArguments(\n",
    "    output_dir='./results',          \n",
    "    per_device_train_batch_size=32,\n",
    "    num_train_epochs=1,  # might increase this\n",
    ")\n",
    "\n",
    "# # Specify the configuration\n",
    "# config = RobertaConfig.from_pretrained('roberta-base')\n",
    "# config.num_labels = len(label2id)  # Number of classes for classification\n",
    "# config.gradient_checkpointing = False  # Enable gradient checkpointing\n",
    "\n",
    "# # Create a new RoBERTa model for sequence classification\n",
    "# model = RobertaForSequenceClassification(config)\n",
    "\n",
    "# model = RobertaForSequenceClassification.from_pretrained('roberta-base', num_labels=len(label2id))\n"
   ]
  },
  {
   "cell_type": "code",
   "execution_count": 7,
   "id": "dfa684d6-2549-456b-b0b3-5b02efdba106",
   "metadata": {
    "execution": {
     "iopub.execute_input": "2023-07-11T00:38:08.051425Z",
     "iopub.status.busy": "2023-07-11T00:38:08.050992Z"
    }
   },
   "outputs": [
    {
     "name": "stderr",
     "output_type": "stream",
     "text": [
      "/opt/conda/lib/python3.10/site-packages/transformers/optimization.py:411: FutureWarning: This implementation of AdamW is deprecated and will be removed in a future version. Use the PyTorch implementation torch.optim.AdamW instead, or set `no_deprecation_warning=True` to disable this warning\n",
      "  warnings.warn(\n"
     ]
    }
   ],
   "source": [
    "# setup Trainer for evaluation\n",
    "def compute_metrics(pred):\n",
    "    labels = pred.label_ids\n",
    "    preds = pred.predictions.argmax(-1)\n",
    "    precision, recall, f1, _ = precision_recall_fscore_support(labels, preds, average='binary')\n",
    "    acc = accuracy_score(labels, preds)\n",
    "    return {\n",
    "        'accuracy': acc,\n",
    "        'f1': f1,\n",
    "        'precision': precision,\n",
    "        'recall': recall\n",
    "    }\n",
    "\n",
    "trainer = Trainer(\n",
    "    model=model,                 \n",
    "#     args=training_args,\n",
    "    compute_metrics=compute_metrics,\n",
    "    train_dataset=train_dataset,   \n",
    "    eval_dataset=test_dataset,          \n",
    "    tokenizer=tokenizer,  \n",
    "    optimizers=(create_optimizer(model), None),\n",
    ")\n",
    "\n",
    "# Train the model\n",
    "# trainer.train()"
   ]
  },
  {
   "cell_type": "code",
   "execution_count": 8,
   "id": "e9c17823-9cd3-4bcb-af26-8b26209907c6",
   "metadata": {},
   "outputs": [
    {
     "name": "stderr",
     "output_type": "stream",
     "text": [
      "/tmp/ipykernel_454/871423802.py:7: UserWarning: To copy construct from a tensor, it is recommended to use sourceTensor.clone().detach() or sourceTensor.clone().detach().requires_grad_(True), rather than torch.tensor(sourceTensor).\n",
      "  item = {key: torch.tensor(val[idx]) for key, val in self.encodings.items() if key != 'labels'}\n",
      "You're using a RobertaTokenizerFast tokenizer. Please note that with a fast tokenizer, using the `__call__` method is faster than using a method to encode the text followed by a call to the `pad` method to get a padded encoding.\n"
     ]
    },
    {
     "data": {
      "text/html": [
       "\n",
       "    <div>\n",
       "      \n",
       "      <progress value='3132' max='3132' style='width:300px; height:20px; vertical-align: middle;'></progress>\n",
       "      [3132/3132 03:35]\n",
       "    </div>\n",
       "    "
      ],
      "text/plain": [
       "<IPython.core.display.HTML object>"
      ]
     },
     "metadata": {},
     "output_type": "display_data"
    },
    {
     "name": "stdout",
     "output_type": "stream",
     "text": [
      "{'eval_loss': 0.018021179363131523, 'eval_accuracy': 0.9963271986905665, 'eval_f1': 0.994288552272163, 'eval_precision': 0.9898640296662546, 'eval_recall': 0.9987528061860813, 'eval_runtime': 217.2046, 'eval_samples_per_second': 115.324, 'eval_steps_per_second': 14.42}\n"
     ]
    }
   ],
   "source": [
    "# evaluate the model\n",
    "eval_result = trainer.evaluate()\n",
    "print(eval_result)"
   ]
  },
  {
   "cell_type": "code",
   "execution_count": 9,
   "id": "a0c1cb1c",
   "metadata": {},
   "outputs": [],
   "source": [
    "# trainer.save_model(\"2E\")"
   ]
  },
  {
   "cell_type": "code",
   "execution_count": 12,
   "id": "300d2428",
   "metadata": {},
   "outputs": [
    {
     "name": "stdout",
     "output_type": "stream",
     "text": [
      "          id                                           question  \\\n",
      "0          0  Why is every book I hear about a \" NY Times # ...   \n",
      "1          0  Why is every book I hear about a \" NY Times # ...   \n",
      "2          0  Why is every book I hear about a \" NY Times # ...   \n",
      "3          0  Why is every book I hear about a \" NY Times # ...   \n",
      "4          1  If salt is so bad for cars , why do we use it ...   \n",
      "...      ...                                                ...   \n",
      "58503  24684  Can Acutret be given to a child for treatment ...   \n",
      "58504  24685  Are BP of 119/65 and pulse of 35 causes for co...   \n",
      "58505  24685  Are BP of 119/65 and pulse of 35 causes for co...   \n",
      "58506  24686  Suggest treatment for back pain after walking ...   \n",
      "58507  24686  Suggest treatment for back pain after walking ...   \n",
      "\n",
      "                                                  answer  label       source  \n",
      "0      Basically there are many categories of \" Best ...      0  reddit_eli5  \n",
      "1      One reason is lots of catagories . However , h...      0  reddit_eli5  \n",
      "2      If you 're hearing about it , it 's because it...      0  reddit_eli5  \n",
      "3      There are many different best seller lists tha...      1  reddit_eli5  \n",
      "4      salt is good for not dying in car crashes and ...      0  reddit_eli5  \n",
      "...                                                  ...    ...          ...  \n",
      "58503  It is not appropriate for me to recommend a sp...      1     medicine  \n",
      "58504  Welcome and thank you for asking on HCM! I hav...      0     medicine  \n",
      "58505  It is not uncommon for people with rheumatoid ...      1     medicine  \n",
      "58506  Hi,Having this type of back pain at this age i...      0     medicine  \n",
      "58507  It is not uncommon to experience back pain, es...      1     medicine  \n",
      "\n",
      "[58508 rows x 5 columns]\n"
     ]
    }
   ],
   "source": [
    "print(train_df)"
   ]
  },
  {
   "cell_type": "code",
   "execution_count": 13,
   "id": "42c23a0c",
   "metadata": {},
   "outputs": [
    {
     "name": "stdout",
     "output_type": "stream",
     "text": [
      "          id                                           question  \\\n",
      "0          3  Why has nobody assassinated Kim Jong - un He i...   \n",
      "1          3  Why has nobody assassinated Kim Jong - un He i...   \n",
      "2          3  Why has nobody assassinated Kim Jong - un He i...   \n",
      "3          3  Why has nobody assassinated Kim Jong - un He i...   \n",
      "4          5  Why do humans have different colored eyes ? Wh...   \n",
      "...      ...                                                ...   \n",
      "25044  24663  What causes pain from thighs to calf?I get exc...   \n",
      "25045  24675  Feel weak and shaky, after drinking caffeine. ...   \n",
      "25046  24675  Feel weak and shaky, after drinking caffeine. ...   \n",
      "25047  24682  Is rise in pressure from 116/66 to 140/80 norm...   \n",
      "25048  24682  Is rise in pressure from 116/66 to 140/80 norm...   \n",
      "\n",
      "                                                  answer  label       source  \n",
      "0      You ca n't just go around assassinating the le...      0  reddit_eli5  \n",
      "1      It would n't really do any good . It 's not li...      0  reddit_eli5  \n",
      "2      Partly because any country found to be doing s...      0  reddit_eli5  \n",
      "3      It is generally not acceptable or ethical to a...      1  reddit_eli5  \n",
      "4      They are not colored . Just as white paint is ...      0  reddit_eli5  \n",
      "...                                                  ...    ...          ...  \n",
      "25044  There are several possible causes of pain that...      1     medicine  \n",
      "25045  you are allergic to caffeineanybody can be all...      0     medicine  \n",
      "25046  It's possible that you are experiencing caffei...      1     medicine  \n",
      "25047  Hello!Welcome and thank you for asking on HCM!...      0     medicine  \n",
      "25048  It's not uncommon for blood pressure to fluctu...      1     medicine  \n",
      "\n",
      "[25049 rows x 5 columns]\n"
     ]
    }
   ],
   "source": [
    "print(test_df)"
   ]
  },
  {
   "cell_type": "code",
   "execution_count": null,
   "id": "5106f4bd",
   "metadata": {},
   "outputs": [],
   "source": []
  }
 ],
 "metadata": {
  "kernelspec": {
   "display_name": "Python 3 (ipykernel)",
   "language": "python",
   "name": "python3"
  },
  "language_info": {
   "codemirror_mode": {
    "name": "ipython",
    "version": 3
   },
   "file_extension": ".py",
   "mimetype": "text/x-python",
   "name": "python",
   "nbconvert_exporter": "python",
   "pygments_lexer": "ipython3",
   "version": "3.10.11"
  }
 },
 "nbformat": 4,
 "nbformat_minor": 5
}
